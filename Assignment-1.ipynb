{
 "cells": [
  {
   "cell_type": "markdown",
   "metadata": {},
   "source": [
    "Eina Zia"
   ]
  },
  {
   "cell_type": "code",
   "execution_count": 9,
   "metadata": {},
   "outputs": [
    {
     "name": "stdout",
     "output_type": "stream",
     "text": [
      "Twinkle twinkle little start, \n",
      "\tHow I wonder what you are! \n",
      "\t\tUp above the world so high, \n",
      "\t\tLike a diamond in the sky\n",
      "Twinkle twinkle little start, \n",
      "\tHow I wonder what you are!\n"
     ]
    }
   ],
   "source": [
    "#1\n",
    "print(\"Twinkle twinkle little start, \\n\\tHow I wonder what you are! \\n\\t\\tUp above the world so high, \\n\\t\\tLike a diamond in the sky\\nTwinkle twinkle little start, \\n\\tHow I wonder what you are!\");"
   ]
  },
  {
   "cell_type": "code",
   "execution_count": 24,
   "metadata": {},
   "outputs": [
    {
     "name": "stdout",
     "output_type": "stream",
     "text": [
      "3.7.3 (default, Apr 24 2019, 15:29:51) [MSC v.1915 64 bit (AMD64)]\n"
     ]
    }
   ],
   "source": [
    "#2\n",
    "import sys\n",
    "print(sys.version)"
   ]
  },
  {
   "cell_type": "code",
   "execution_count": 21,
   "metadata": {},
   "outputs": [
    {
     "name": "stdout",
     "output_type": "stream",
     "text": [
      "Current date and time: \n",
      "29-12-2021 00:33:03\n"
     ]
    }
   ],
   "source": [
    "#3\n",
    "import datetime;\n",
    "now = datetime.datetime.now();\n",
    "print(\"Current date and time: \");\n",
    "print(now.strftime(\"%d-%m-%Y %H:%M:%S\"));"
   ]
  },
  {
   "cell_type": "code",
   "execution_count": 18,
   "metadata": {},
   "outputs": [
    {
     "name": "stdout",
     "output_type": "stream",
     "text": [
      "Enter radiun: 4\n",
      "The area of circle is 50.26548245743669 m^2, having radius 4.0\n"
     ]
    }
   ],
   "source": [
    "#4\n",
    "from math import pi;\n",
    "r = float(input(\"Enter radiun: \"));\n",
    "formula = pi * r**2;\n",
    "print(\"The area of circle is\", formula, \"m^2, having radius\", r);"
   ]
  },
  {
   "cell_type": "code",
   "execution_count": 20,
   "metadata": {},
   "outputs": [
    {
     "name": "stdout",
     "output_type": "stream",
     "text": [
      "Enter first name: Eina\n",
      "Enter last name: Zia\n",
      "Zia   Eina\n"
     ]
    }
   ],
   "source": [
    "#5\n",
    "first_name = (input(\"Enter first name: \"));\n",
    "last_name = (input(\"Enter last name: \"));\n",
    "print (last_name, \" \", first_name);"
   ]
  },
  {
   "cell_type": "code",
   "execution_count": 23,
   "metadata": {},
   "outputs": [
    {
     "name": "stdout",
     "output_type": "stream",
     "text": [
      "First input: -9\n",
      "Second input: 45\n",
      "Adding these two input values to have 36\n"
     ]
    }
   ],
   "source": [
    "#6\n",
    "input1 = int(input(\"First input: \"))\n",
    "input2 = int(input(\"Second input: \"))\n",
    "add = input1 + input2\n",
    "print(\"Adding these two input values to have\", add)"
   ]
  }
 ],
 "metadata": {
  "kernelspec": {
   "display_name": "Python 3",
   "language": "python",
   "name": "python3"
  },
  "language_info": {
   "codemirror_mode": {
    "name": "ipython",
    "version": 3
   },
   "file_extension": ".py",
   "mimetype": "text/x-python",
   "name": "python",
   "nbconvert_exporter": "python",
   "pygments_lexer": "ipython3",
   "version": "3.7.3"
  }
 },
 "nbformat": 4,
 "nbformat_minor": 2
}
